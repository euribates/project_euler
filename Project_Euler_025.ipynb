{
 "cells": [
  {
   "cell_type": "markdown",
   "metadata": {},
   "source": [
    "## Project euler\n",
    "### Problem 25 - 1000-digit Fibonacci number\n",
    "\n",
    "The Fibonacci sequence is defined by the recurrence relation:\n",
    "\n",
    "    Fn = Fn−1 + Fn−2, where F1 = 1 and F2 = 1.\n",
    "\n",
    "Hence the first 12 terms will be:\n",
    "\n",
    "    F1 = 1\n",
    "    F2 = 1\n",
    "    F3 = 2\n",
    "    F4 = 3\n",
    "    F5 = 5\n",
    "    F6 = 8\n",
    "    F7 = 13\n",
    "    F8 = 21\n",
    "    F9 = 34\n",
    "    F10 = 55\n",
    "    F11 = 89\n",
    "    F12 = 144\n",
    "\n",
    "The 12th term, F12, is the first term to contain three digits.\n",
    "\n",
    "What is the index of the first term in the Fibonacci sequence to contain 1000 digits?\n"
   ]
  },
  {
   "cell_type": "code",
   "execution_count": 1,
   "metadata": {},
   "outputs": [],
   "source": [
    "from functools import lru_cache\n",
    "import random"
   ]
  },
  {
   "cell_type": "code",
   "execution_count": 2,
   "metadata": {},
   "outputs": [],
   "source": [
    "@lru_cache(4096)\n",
    "def fib(n):\n",
    "    if n in (1, 2):\n",
    "        return 1\n",
    "    else:\n",
    "        return fib(n-1) + fib(n-2)"
   ]
  },
  {
   "cell_type": "code",
   "execution_count": 3,
   "metadata": {},
   "outputs": [],
   "source": [
    "assert fib(1) == 1\n",
    "assert fib(2) == 1\n",
    "assert fib(3) == 2\n",
    "assert fib(4) == 3\n",
    "assert fib(5) == 5\n",
    "assert fib(6) == 8\n",
    "assert fib(7) == 13\n",
    "assert fib(8) == 21\n",
    "assert fib(9) == 34\n",
    "assert fib(10) == 55\n",
    "assert fib(11) == 89\n",
    "assert fib(12) == 144"
   ]
  },
  {
   "cell_type": "code",
   "execution_count": 4,
   "metadata": {},
   "outputs": [
    {
     "name": "stdout",
     "output_type": "stream",
     "text": [
      "12 144\n"
     ]
    }
   ],
   "source": [
    "num = 1\n",
    "while True:\n",
    "    f = fib(num)\n",
    "    if len(str(f)) == 3:\n",
    "        print(num, f)\n",
    "        break\n",
    "    num += 1"
   ]
  },
  {
   "cell_type": "code",
   "execution_count": 5,
   "metadata": {},
   "outputs": [
    {
     "name": "stdout",
     "output_type": "stream",
     "text": [
      "67 14\n",
      "237 50\n",
      "334 70\n",
      "411 86\n",
      "474 99\n",
      "555 116\n",
      "782 164\n",
      "806 169\n",
      "1011 211\n",
      "1029 215\n",
      "1114 233\n",
      "1133 237\n",
      "1236 258\n",
      "1521 318\n",
      "1790 374\n",
      "1825 382\n",
      "1877 392\n",
      "2075 434\n",
      "2187 457\n",
      "2287 478\n",
      "2385 499\n",
      "2387 499\n",
      "2579 539\n",
      "2682 561\n",
      "2743 573\n",
      "2815 588\n",
      "2848 595\n",
      "2925 611\n",
      "3464 724\n",
      "3467 725\n",
      "3532 738\n",
      "3657 764\n",
      "3759 786\n",
      "3792 793\n",
      "3804 795\n",
      "4014 839\n",
      "4132 864\n",
      "4144 866\n",
      "4528 946\n",
      "4673 977\n",
      "4741 991\n",
      "\n",
      "Sol: 4782\n"
     ]
    }
   ],
   "source": [
    "num = 1\n",
    "while True:\n",
    "    f = fib(num)\n",
    "    num_digits = len(str(f))\n",
    "    if random.random() < 0.01:\n",
    "        print(num, num_digits)\n",
    "    if num_digits == 1000:\n",
    "        break\n",
    "    num += 1\n",
    "print()\n",
    "print('Sol:', num)\n"
   ]
  },
  {
   "cell_type": "code",
   "execution_count": null,
   "metadata": {},
   "outputs": [],
   "source": []
  }
 ],
 "metadata": {
  "kernelspec": {
   "display_name": "Python 3",
   "language": "python",
   "name": "python3"
  },
  "language_info": {
   "codemirror_mode": {
    "name": "ipython",
    "version": 3
   },
   "file_extension": ".py",
   "mimetype": "text/x-python",
   "name": "python",
   "nbconvert_exporter": "python",
   "pygments_lexer": "ipython3",
   "version": "3.5.2"
  }
 },
 "nbformat": 4,
 "nbformat_minor": 2
}
