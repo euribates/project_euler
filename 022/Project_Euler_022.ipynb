{
 "cells": [
  {
   "cell_type": "markdown",
   "metadata": {},
   "source": [
    "## Project Euler: Names scores\n",
    "### Problem 22\n",
    "\n",
    "Using [names.txt](names.txt) (right click and 'Save Link/Target As...'), a 46K text file containing over five-thousand first names, begin by sorting it into alphabetical order. Then working out the alphabetical value for each name, multiply this value by its alphabetical position in the list to obtain a name score."
   ]
  },
  {
   "cell_type": "code",
   "execution_count": 1,
   "metadata": {},
   "outputs": [],
   "source": [
    "def load_names(filename):\n",
    "    with open(filename, 'r') as f:\n",
    "        data = f.read()\n",
    "    return [s.strip('\"') for s in data.split(',')]"
   ]
  },
  {
   "cell_type": "code",
   "execution_count": 2,
   "metadata": {},
   "outputs": [],
   "source": [
    "# test\n",
    "names = load_names('names.txt')\n",
    "assert 'AARON' in names\n",
    "assert 'ABBEY' in names\n",
    "assert 'ABBIE' in names\n",
    "assert 'ABBY' in names\n",
    "assert 'ABDUL' in names\n",
    "assert 'JOHN' in names\n",
    "assert 'MARY' in names\n",
    "assert 'PATRICIA' in names\n",
    "assert 'LINDA' in names\n",
    "assert 'BARBARA' in names\n",
    "assert 'ELIZABETH' in names"
   ]
  },
  {
   "cell_type": "markdown",
   "metadata": {},
   "source": [
    "For example, when the list is sorted into alphabetical order, COLIN, which is worth $3 + 15 + 12 + 9 + 14 = 53$, is the 938th name in the list. So, COLIN would obtain a score of $938 × 53 = 49714$."
   ]
  },
  {
   "cell_type": "code",
   "execution_count": 3,
   "metadata": {},
   "outputs": [],
   "source": [
    "def score(word):\n",
    "    return sum([ord(letter) - 64 for letter in word])"
   ]
  },
  {
   "cell_type": "code",
   "execution_count": 4,
   "metadata": {},
   "outputs": [],
   "source": [
    "# test\n",
    "assert score('COLIN') == 53\n",
    "assert score('ABC') == 6\n",
    "assert score('JOHN') == 47\n",
    "assert score('A') == 1\n",
    "assert score('Z') == 26"
   ]
  },
  {
   "cell_type": "code",
   "execution_count": 5,
   "metadata": {},
   "outputs": [
    {
     "name": "stdout",
     "output_type": "stream",
     "text": [
      "\n",
      "Sol: 871198282\n"
     ]
    }
   ],
   "source": [
    "names = load_names('names.txt')\n",
    "names.sort()\n",
    "acc = sum([i * score(w) for i, w in enumerate(names, start=1)])\n",
    "print()\n",
    "print('Sol:', acc)\n"
   ]
  }
 ],
 "metadata": {
  "kernelspec": {
   "display_name": "Python 3",
   "language": "python",
   "name": "python3"
  },
  "language_info": {
   "codemirror_mode": {
    "name": "ipython",
    "version": 3
   },
   "file_extension": ".py",
   "mimetype": "text/x-python",
   "name": "python",
   "nbconvert_exporter": "python",
   "pygments_lexer": "ipython3",
   "version": "3.5.2"
  }
 },
 "nbformat": 4,
 "nbformat_minor": 2
}
