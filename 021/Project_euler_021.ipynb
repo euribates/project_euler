{
 "cells": [
  {
   "cell_type": "markdown",
   "metadata": {},
   "source": [
    "## Project Euler: Amicable numbers - Problem 21\n",
    "\n",
    "Let $d(n)$ be defined as **the sum of proper divisors of n** (numbers less than $n$ which divide evenly into $n$).\n",
    "If $d(a) = b$ and $d(b) = a$, where $a ≠ b$, then $a$ and $b$ are an amicable pair and each of $a$ and $b$ are called _amicable numbers_.\n",
    "\n",
    "For example, the proper divisors of $220$ are $1, 2, 4, 5, 10, 11, 20, 22, 44, 55$ and $110$; therefore $d(220) = 284$. The proper divisors of $284$ are $1, 2, 4, 71$ and $142$; so $d(284) = 220$.\n",
    "\n",
    "Evaluate the sum of all the amicable numbers under 10000.\n"
   ]
  },
  {
   "cell_type": "code",
   "execution_count": 61,
   "metadata": {},
   "outputs": [],
   "source": [
    "import math\n",
    "import itertools"
   ]
  },
  {
   "cell_type": "code",
   "execution_count": 62,
   "metadata": {},
   "outputs": [],
   "source": [
    "def divisorGenerator(n):\n",
    "    large_divisors = []\n",
    "    for i in range(1, int(math.sqrt(n) + 1)):\n",
    "        if n % i == 0:\n",
    "            yield i\n",
    "            if i*i != n and i != 1:\n",
    "                large_divisors.append(int(n / i))\n",
    "    for divisor in reversed(large_divisors):\n",
    "        yield divisor\n",
    "        \n",
    "def d(n):\n",
    "    return sum(divisorGenerator(n))"
   ]
  },
  {
   "cell_type": "code",
   "execution_count": 63,
   "metadata": {},
   "outputs": [],
   "source": [
    "# tests\n",
    "\n",
    "assert list(divisorGenerator(220)) == [1, 2, 4, 5, 10, 11, 20, 22, 44, 55, 110]\n",
    "assert d(220) == 284\n",
    "assert list(divisorGenerator(284)) == [1, 2, 4, 71, 142]\n",
    "assert d(284) == 220"
   ]
  },
  {
   "cell_type": "code",
   "execution_count": 64,
   "metadata": {},
   "outputs": [],
   "source": [
    "# Quick-and-dirty solution, plenty space for improvements\n",
    "\n",
    "def get_all_amicable_numbers_under(n):\n",
    "    for a, b, in itertools.product(range(1, n+1), range(1, n+1)):\n",
    "        if a != b and d(a) == b and d(b) == a:\n",
    "            yield a\n",
    "            yield b\n",
    "            \n",
    "assert 284 in set(get_all_amicable_numbers_under(284))\n",
    "assert 220 in set(get_all_amicable_numbers_under(284))"
   ]
  },
  {
   "cell_type": "code",
   "execution_count": 65,
   "metadata": {},
   "outputs": [
    {
     "data": {
      "text/plain": [
       "{220, 284, 1184, 1210, 2620, 2924, 5020, 5564, 6232, 6368}"
      ]
     },
     "execution_count": 65,
     "metadata": {},
     "output_type": "execute_result"
    }
   ],
   "source": [
    "set(get_all_amicable_numbers_under(10000))"
   ]
  },
  {
   "cell_type": "code",
   "execution_count": 66,
   "metadata": {},
   "outputs": [
    {
     "data": {
      "text/plain": [
       "31626"
      ]
     },
     "execution_count": 66,
     "metadata": {},
     "output_type": "execute_result"
    }
   ],
   "source": [
    "sum({220, 284, 1184, 1210, 2620, 2924, 5020, 5564, 6232, 6368})"
   ]
  }
 ],
 "metadata": {
  "kernelspec": {
   "display_name": "Python 3",
   "language": "python",
   "name": "python3"
  },
  "language_info": {
   "codemirror_mode": {
    "name": "ipython",
    "version": 3
   },
   "file_extension": ".py",
   "mimetype": "text/x-python",
   "name": "python",
   "nbconvert_exporter": "python",
   "pygments_lexer": "ipython3",
   "version": "3.5.2"
  }
 },
 "nbformat": 4,
 "nbformat_minor": 2
}
