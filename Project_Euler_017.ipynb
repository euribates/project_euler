{
 "cells": [
  {
   "cell_type": "markdown",
   "metadata": {},
   "source": [
    "## Project Euler - Problem 17\n",
    "\n",
    "If the numbers $1$ to $5$ are written out in words: `one`, `two`, `three`, `four`, `five`, then there are $3 + 3 + 5 + 4 + 4 = 19$ letters used in total.\n",
    "\n",
    "If all the numbers from $1$ to $1000$ (one thousand) inclusive were written out in words, how many letters would be used?\n",
    "\n",
    "NOTE: Do not count spaces or hyphens. For example, `342` (three hundred and forty-two) contains 23 letters and `115` (one hundred and fifteen) contains 20 letters. The use of \"and\" when writing out numbers is in compliance with British usage.\n",
    "\n",
    "> More info on [WikiPedia - English numerals](https://en.wikipedia.org/wiki/English_numerals#Cardinal_numbers).\n",
    "\n",
    "![Status](https://projecteuler.net/profile/euribates.png)"
   ]
  },
  {
   "cell_type": "code",
   "execution_count": 1,
   "metadata": {},
   "outputs": [],
   "source": [
    "import random"
   ]
  },
  {
   "cell_type": "code",
   "execution_count": 2,
   "metadata": {},
   "outputs": [],
   "source": [
    "first_nums = (\n",
    "    'one two three four five six seven eight nine ten'\n",
    "    ' eleven twelve thirteen fourteen fifteen sixteen seventeen eighteen nineteen'\n",
    "    )\n",
    "\n",
    "digits = dict(enumerate(first_nums.split(), start=1))\n",
    "decas = dict(enumerate('twenty thirty forty fifty sixty seventy eighty ninety'.split(), start=2))"
   ]
  },
  {
   "cell_type": "code",
   "execution_count": 3,
   "metadata": {},
   "outputs": [],
   "source": [
    "def number_to_letters(i):\n",
    "    if 1 <= i < 20:\n",
    "        return digits[i]\n",
    "    elif 20 <= i < 100:\n",
    "        cociente, resto = divmod(i, 10)\n",
    "        if resto == 0:\n",
    "            return decas[cociente]\n",
    "        else:\n",
    "            return '{}-{}'.format(decas[cociente], digits[resto])\n",
    "    elif 100 <= i < 1000:\n",
    "        cociente, resto = divmod(i, 100)\n",
    "        if resto == 0:\n",
    "            return '{} hundred'.format(digits[cociente])\n",
    "        else:\n",
    "            return '{} hundred and {}'.format(digits[cociente], number_to_letters(resto))\n",
    "    elif i == 1000:\n",
    "        return 'one thousand'\n",
    "    else:\n",
    "        raise ValueError('Number must be in range 1..1000')\n",
    "        \n",
    "        "
   ]
  },
  {
   "cell_type": "code",
   "execution_count": 4,
   "metadata": {},
   "outputs": [],
   "source": [
    "# test units\n",
    "assert number_to_letters(1) == 'one'\n",
    "assert number_to_letters(5) == 'five'\n",
    "assert number_to_letters(9) == 'nine'\n",
    "assert number_to_letters(10) == 'ten'\n",
    "assert number_to_letters(11) == 'eleven'\n",
    "assert number_to_letters(12) == 'twelve'\n",
    "assert number_to_letters(13) == 'thirteen'\n",
    "assert number_to_letters(15) == 'fifteen'\n",
    "assert number_to_letters(18) == 'eighteen'\n",
    "assert number_to_letters(19) == 'nineteen'\n",
    "assert number_to_letters(20) == 'twenty'\n",
    "assert number_to_letters(21) == 'twenty-one'\n",
    "assert number_to_letters(22) == 'twenty-two'\n",
    "assert number_to_letters(25) == 'twenty-five'\n",
    "assert number_to_letters(30) == 'thirty'\n",
    "assert number_to_letters(31) == 'thirty-one'\n",
    "assert number_to_letters(32) == 'thirty-two'\n",
    "assert number_to_letters(35) == 'thirty-five'\n",
    "assert number_to_letters(40) == 'forty'\n",
    "assert number_to_letters(41) == 'forty-one'\n",
    "assert number_to_letters(42) == 'forty-two'\n",
    "assert number_to_letters(43) == 'forty-three'\n",
    "assert number_to_letters(44) == 'forty-four'\n",
    "assert number_to_letters(45) == 'forty-five'\n",
    "assert number_to_letters(46) == 'forty-six'\n",
    "assert number_to_letters(47) == 'forty-seven'\n",
    "assert number_to_letters(48) == 'forty-eight'\n",
    "assert number_to_letters(49) == 'forty-nine'\n",
    "assert number_to_letters(55) == 'fifty-five'\n",
    "assert number_to_letters(58) == 'fifty-eight'\n",
    "assert number_to_letters(64) == 'sixty-four'\n",
    "assert number_to_letters(65) == 'sixty-five'\n",
    "assert number_to_letters(75) == 'seventy-five'\n",
    "assert number_to_letters(79) == 'seventy-nine'\n",
    "assert number_to_letters(83) == 'eighty-three'\n",
    "assert number_to_letters(85) == 'eighty-five'\n",
    "assert number_to_letters(95) == 'ninety-five'\n",
    "assert number_to_letters(98) == 'ninety-eight'\n",
    "assert number_to_letters(99) == 'ninety-nine'\n",
    "assert number_to_letters(100) == 'one hundred'\n",
    "assert number_to_letters(101) == 'one hundred and one'\n",
    "\n",
    "assert number_to_letters(216) == 'two hundred and sixteen'\n",
    "assert number_to_letters(342) == 'three hundred and forty-two'\n",
    "assert number_to_letters(394) == 'three hundred and ninety-four'\n",
    "assert number_to_letters(115) == 'one hundred and fifteen'\n",
    "\n",
    "assert number_to_letters(768) == 'seven hundred and sixty-eight'\n",
    "assert number_to_letters(999) == 'nine hundred and ninety-nine'\n",
    "assert number_to_letters(1000) == 'one thousand'"
   ]
  },
  {
   "cell_type": "code",
   "execution_count": 5,
   "metadata": {},
   "outputs": [],
   "source": [
    "def count_letters(s):\n",
    "    s = s.replace(' ', '')\n",
    "    s = s.replace('-', '')\n",
    "    return len(s)\n",
    "\n",
    "assert count_letters('forty-eight') == 10\n",
    "assert count_letters('three hundred and forty-two') == 23\n",
    "assert count_letters('one hundred and fifteen') == 20\n",
    "assert count_letters('seven hundred and sixty-eight') == 25\n",
    "assert count_letters('nine hundred and ninety-nine') == 24\n",
    "assert count_letters('one thousand') == 11\n",
    "# sanity\n",
    "assert count_letters(number_to_letters(48)) == 10\n",
    "assert count_letters(number_to_letters(342)) == 23\n",
    "assert count_letters(number_to_letters(115)) == 20\n",
    "assert count_letters(number_to_letters(768)) == 25\n",
    "assert count_letters(number_to_letters(999)) == 24\n",
    "assert count_letters(number_to_letters(1000)) == 11\n"
   ]
  },
  {
   "cell_type": "markdown",
   "metadata": {},
   "source": [
    "If the numbers $1$ to $5$ are written out in words: `one`, `two`, `three`, `four`, `five`, then there are $3 + 3 + 5 + 4 + 4 = 19$ letters used in total."
   ]
  },
  {
   "cell_type": "code",
   "execution_count": 6,
   "metadata": {},
   "outputs": [
    {
     "name": "stdout",
     "output_type": "stream",
     "text": [
      "Sol: 19\n"
     ]
    }
   ],
   "source": [
    "acc = 0\n",
    "for n in range(1, 6):\n",
    "    s = number_to_letters(n)\n",
    "    # print(s, count_letters(s))\n",
    "    acc += count_letters(s)\n",
    "print('Sol:', acc)\n",
    "assert acc == 19"
   ]
  },
  {
   "cell_type": "code",
   "execution_count": 7,
   "metadata": {},
   "outputs": [
    {
     "name": "stdout",
     "output_type": "stream",
     "text": [
      "Sol: 51\n"
     ]
    }
   ],
   "source": [
    "acc = 0\n",
    "for n in range(1, 13):\n",
    "    s = number_to_letters(n)\n",
    "    acc += count_letters(s)\n",
    "print('Sol:', acc)\n",
    "assert acc == 51"
   ]
  },
  {
   "cell_type": "code",
   "execution_count": 8,
   "metadata": {},
   "outputs": [
    {
     "name": "stdout",
     "output_type": "stream",
     "text": [
      "26 twenty-six 9 161\n",
      "55 fifty-five 9 424\n",
      "61 sixty-one 8 475\n",
      "82 eighty-two 9 677\n",
      "94 ninety-four 10 793\n",
      "116 one hundred and sixteen 20 1133\n",
      "158 one hundred and fifty-eight 23 2056\n",
      "178 one hundred and seventy-eight 25 2504\n",
      "190 one hundred and ninety 19 2779\n",
      "199 one hundred and ninety-nine 23 2982\n",
      "225 two hundred and twenty-five 23 3478\n",
      "231 two hundred and thirty-one 22 3613\n",
      "232 two hundred and thirty-two 22 3635\n",
      "235 two hundred and thirty-five 23 3704\n",
      "260 two hundred and sixty 18 4252\n",
      "269 two hundred and sixty-nine 22 4446\n",
      "282 two hundred and eighty-two 22 4745\n",
      "328 three hundred and twenty-eight 26 5754\n",
      "377 three hundred and seventy-seven 27 6935\n",
      "384 three hundred and eighty-four 25 7110\n",
      "426 four hundred and twenty-six 23 8029\n",
      "485 four hundred and eighty-five 24 9401\n",
      "500 five hundred 11 9758\n",
      "519 five hundred and nineteen 22 10119\n",
      "543 five hundred and forty-three 24 10676\n",
      "561 five hundred and sixty-one 22 11084\n",
      "581 five hundred and eighty-one 23 11557\n",
      "603 six hundred and three 18 12051\n",
      "627 six hundred and twenty-seven 24 12527\n",
      "628 six hundred and twenty-eight 24 12551\n",
      "636 six hundred and thirty-six 22 12731\n",
      "654 six hundred and fifty-four 22 13123\n",
      "671 six hundred and seventy-one 23 13492\n",
      "728 seven hundred and twenty-eight 26 14758\n",
      "746 seven hundred and forty-six 23 15194\n",
      "791 seven hundred and ninety-one 24 16286\n",
      "807 eight hundred and seven 20 16635\n",
      "815 eight hundred and fifteen 22 16800\n",
      "843 eight hundred and forty-three 25 17472\n",
      "852 eight hundred and fifty-two 23 17685\n",
      "859 eight hundred and fifty-nine 24 17854\n",
      "862 eight hundred and sixty-two 23 17921\n",
      "868 eight hundred and sixty-eight 25 18065\n",
      "869 eight hundred and sixty-nine 24 18090\n",
      "877 eight hundred and seventy-seven 27 18290\n",
      "895 eight hundred and ninety-five 25 18736\n",
      "978 nine hundred and seventy-eight 26 20590\n",
      "\n",
      "Sol: 21124\n"
     ]
    }
   ],
   "source": [
    "acc = 0\n",
    "for n in range(1, 1001):\n",
    "    s = number_to_letters(n)\n",
    "    if random.random() <= 0.05: print(n, s, count_letters(s), acc)\n",
    "    acc += count_letters(s)\n",
    "print()\n",
    "print('Sol:', acc)"
   ]
  },
  {
   "cell_type": "code",
   "execution_count": null,
   "metadata": {},
   "outputs": [],
   "source": []
  }
 ],
 "metadata": {
  "kernelspec": {
   "display_name": "Python 3",
   "language": "python",
   "name": "python3"
  },
  "language_info": {
   "codemirror_mode": {
    "name": "ipython",
    "version": 3
   },
   "file_extension": ".py",
   "mimetype": "text/x-python",
   "name": "python",
   "nbconvert_exporter": "python",
   "pygments_lexer": "ipython3",
   "version": "3.5.2"
  }
 },
 "nbformat": 4,
 "nbformat_minor": 2
}
